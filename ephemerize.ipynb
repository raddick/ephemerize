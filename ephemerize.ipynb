{
 "cells": [
  {
   "cell_type": "code",
   "execution_count": null,
   "metadata": {
    "collapsed": false
   },
   "outputs": [],
   "source": [
    "!conda install ephem --yes"
   ]
  },
  {
   "cell_type": "code",
   "execution_count": 3,
   "metadata": {
    "collapsed": false
   },
   "outputs": [],
   "source": [
    "import ephem\n",
    "import numpy\n",
    "import pandas\n",
    "from SciServer import SciDrive\n",
    "from astropy import units\n",
    "from astropy.coordinates import SkyCoord"
   ]
  },
  {
   "cell_type": "code",
   "execution_count": 4,
   "metadata": {
    "collapsed": false
   },
   "outputs": [
    {
     "name": "stdout",
     "output_type": "stream",
     "text": [
      "ok\n"
     ]
    }
   ],
   "source": [
    "#SciDrive.directoryList('mpc')\n",
    "mpc = SciDrive.download('mpc/MPCORB.DAT', localFilePath='mpcorb.dat')\n",
    "print('ok')"
   ]
  },
  {
   "cell_type": "code",
   "execution_count": 25,
   "metadata": {
    "collapsed": false
   },
   "outputs": [
    {
     "name": "stdout",
     "output_type": "stream",
     "text": [
      "Data read\n",
      "Columns renamed\n"
     ]
    }
   ],
   "source": [
    "df = pandas.read_fwf('mpcorb.dat')\n",
    "df = df.set_index('desig')\n",
    "print('Data read')\n",
    "df = df.rename(columns = {'epc':'epoch', 'meanAn': 'meanAnomaly', 'perihel':'periheleonArgument'})\n",
    "df = df.rename(columns = {'nodAL':'nodeAscendingLongitude', 'incl': 'inclination'})\n",
    "df = df.rename(columns = {'motDail': 'motionDailyMean', 'z':'uncertainty', 'ref': 'reference'})\n",
    "df = df.rename(columns = {'nOb': 'nObservations', 'nP':'nOppositions', 'arcL':'arcLength'})\n",
    "df = df.rename(columns = {'rms':'rmsResidual', 'p': 'perturbersCoarse', 'pp':'perturbersPrecise'})\n",
    "df = df.rename(columns = {'comp':'computerName', 'flg':'flags', 'lastO':'lastObservationDate'})\n",
    "print('Columns renamed')\n",
    "#df['lastObservationDate'] = df['lastObservationDate'].apply(lambda x: x[0:4]+'-'+x[4:6]+'-'+x[6:8])\n",
    "#print('Dates parsed')\n",
    "#df['lastObservationDate'] = pandas.to_datetime(df['lastObservationDate'], errors='coerce')\n",
    "#print('Dates dated')\n",
    "#df['lastObservationYear'] = df['lastObservationDate'].apply(lambda x: x.year)\n",
    "#print('Years yeared')\n",
    "#print('ok')"
   ]
  },
  {
   "cell_type": "code",
   "execution_count": 28,
   "metadata": {
    "collapsed": false
   },
   "outputs": [
    {
     "name": "stdout",
     "output_type": "stream",
     "text": [
      "Dates dated\n",
      "Orbit type set to e\n",
      "xephem xephemed\n"
     ]
    }
   ],
   "source": [
    "df['lastObservationDate'] = df['lastObservationDate'].astype(str)\n",
    "df['lastObservationDate'] = df['lastObservationDate'].apply(lambda x: x[0:-2])\n",
    "df['lastObservationDate'] = pandas.to_datetime(df['lastObservationDate'], format='%Y%m%d', errors='coerce')\n",
    "df['lastObservationYear'] = df['lastObservationDate'].apply(lambda x: x.year)\n",
    "\n",
    "print('Dates dated')\n",
    "df['orbit_type'] = 'e'\n",
    "print('Orbit type set to e')\n",
    "\n",
    "xephem_column_order = ['name', 'orbit_type', 'inclination']\n",
    "xephem_column_order += ['nodeAscendingLongitude', 'periheleonArgument', 'a']\n",
    "xephem_column_order += ['motionDailyMean', 'e', 'meanAnomaly']\n",
    "xephem_column_order += ['epoch', 'lastObservationYear', 'h', 'g']\n",
    "xephem_df = df[xephem_column_order]\n",
    "print('xephem xephemed')\n"
   ]
  },
  {
   "cell_type": "code",
   "execution_count": 29,
   "metadata": {
    "collapsed": false
   },
   "outputs": [
    {
     "name": "stdout",
     "output_type": "stream",
     "text": [
      "Processing asteroid 0...\n",
      "Processing asteroid 1...\n",
      "Processing asteroid 2...\n",
      "Processing asteroid 3...\n",
      "Processing asteroid 4...\n",
      "Processing asteroid 5...\n",
      "Processing asteroid 6...\n",
      "Processing asteroid 7...\n",
      "Processing asteroid 8...\n",
      "Processing asteroid 9...\n",
      "Processing asteroid 10...\n",
      "Processing asteroid 11...\n",
      "Processing asteroid 12...\n",
      "Processing asteroid 13...\n",
      "Processing asteroid 14...\n",
      "Processing asteroid 15...\n",
      "Processing asteroid 16...\n",
      "Processing asteroid 17...\n",
      "Processing asteroid 18...\n",
      "Processing asteroid 19...\n",
      "Processing asteroid 20...\n",
      "Processing asteroid 21...\n",
      "Processing asteroid 22...\n",
      "Processing asteroid 23...\n",
      "Processing asteroid 24...\n",
      "Processing asteroid 25...\n",
      "Processing asteroid 26...\n",
      "Processing asteroid 27...\n",
      "Processing asteroid 28...\n",
      "Processing asteroid 29...\n",
      "Processing asteroid 30...\n",
      "Processing asteroid 31...\n",
      "Processing asteroid 32...\n",
      "Processing asteroid 33...\n",
      "Processing asteroid 34...\n",
      "Processing asteroid 35...\n",
      "Processing asteroid 36...\n",
      "Processing asteroid 37...\n",
      "Processing asteroid 38...\n",
      "Processing asteroid 39...\n",
      "Processing asteroid 40...\n",
      "Processing asteroid 41...\n",
      "Processing asteroid 42...\n",
      "Processing asteroid 43...\n",
      "Processing asteroid 44...\n",
      "Processing asteroid 45...\n",
      "Processing asteroid 46...\n",
      "Processing asteroid 47...\n",
      "Processing asteroid 48...\n",
      "Processing asteroid 49...\n",
      "Processing asteroid 50...\n",
      "Processing asteroid 51...\n",
      "Processing asteroid 52...\n",
      "Processing asteroid 53...\n",
      "Processing asteroid 54...\n",
      "Processing asteroid 55...\n",
      "Processing asteroid 56...\n",
      "Processing asteroid 57...\n",
      "Processing asteroid 58...\n",
      "Processing asteroid 59...\n",
      "Processing asteroid 60...\n",
      "Processing asteroid 61...\n",
      "Processing asteroid 62...\n",
      "Processing asteroid 63...\n",
      "Processing asteroid 64...\n",
      "Processing asteroid 65...\n",
      "Processing asteroid 66...\n",
      "Processing asteroid 67...\n",
      "Processing asteroid 68...\n",
      "Processing asteroid 69...\n",
      "Processing asteroid 70...\n",
      "Processing asteroid 71...\n",
      "Processing asteroid 72...\n",
      "Processing asteroid 73...\n",
      "Processing asteroid 74...\n",
      "Processing asteroid 75...\n",
      "Processing asteroid 76...\n",
      "Processing asteroid 77...\n",
      "Processing asteroid 78...\n",
      "Processing asteroid 79...\n",
      "Processing asteroid 80...\n",
      "Processing asteroid 81...\n",
      "Processing asteroid 82...\n",
      "Processing asteroid 83...\n",
      "Processing asteroid 84...\n",
      "Processing asteroid 85...\n",
      "Processing asteroid 86...\n",
      "Processing asteroid 87...\n",
      "Processing asteroid 88...\n",
      "Processing asteroid 89...\n",
      "Processing asteroid 90...\n",
      "Processing asteroid 91...\n",
      "Processing asteroid 92...\n",
      "Processing asteroid 93...\n",
      "Processing asteroid 94...\n",
      "Processing asteroid 95...\n",
      "Processing asteroid 96...\n",
      "Processing asteroid 97...\n",
      "Processing asteroid 98...\n",
      "Processing asteroid 99...\n",
      "Done\n"
     ]
    }
   ],
   "source": [
    "# structure of .epb file (what we need to convert to):\n",
    "# names, {f|e|h|p|E|P}, incli, long-ascending-node, arg-of-perihel, a (mean dist), \n",
    "##  mean-daily-motion, eccentricity, mean-anomaly, epoch, equinox-year, mag1, mag2, ang-size\n",
    "\n",
    "'''\n",
    "xephem_column_order = ['name', 'orbit_type', 'inclination']\n",
    "xephem_column_order += ['nodeAscendingLongitude', 'periheleonArgument', 'a']\n",
    "xephem_column_order += ['motionDailyMean', 'e', 'meanAnomaly']\n",
    "xephem_column_order += ['epoch', 'lastObservationYear', 'h', 'g']\n",
    "\n",
    "xephem_df = df[xephem_column_order]\n",
    "'''\n",
    "\n",
    "#aline = \"C/2002 Y1 (Juels-Holvorcem),e,103.7816,166.2194,128.8232,242.5695,0.0002609,0.99705756,0.0000,04/13.2508/2003,2000,g  6.5,4.0\"\n",
    "#print(aline)\n",
    "#print('\\n')\n",
    "\n",
    "with open('orbits.csv', 'w') as f:\n",
    "#    for i in range(0,len(df)):\n",
    "    for i in range(0,100):\n",
    "        print('Processing asteroid {:}...'.format(i))\n",
    "        thisline = \"\"\n",
    "        for k in range(0,11):\n",
    "            thisline += str(xephem_df.iloc[i].values[k]) + \",\"\n",
    "        thisline += 'H '+str(xephem_df.iloc[i].values[11]) + \",\"\n",
    "        thisline += str(xephem_df.iloc[i].values[12])\n",
    "        thisline += '\\n'\n",
    "#        print(thisline)\n",
    "        f.write(thisline)\n",
    "print('Done')"
   ]
  },
  {
   "cell_type": "code",
   "execution_count": 34,
   "metadata": {
    "collapsed": false
   },
   "outputs": [
    {
     "ename": "TypeError",
     "evalue": "'Series' objects are mutable, thus they cannot be hashed",
     "output_type": "error",
     "traceback": [
      "\u001b[1;31m\u001b[0m",
      "\u001b[1;31mTypeError\u001b[0mTraceback (most recent call last)",
      "\u001b[1;32m<ipython-input-34-8c82b8575578>\u001b[0m in \u001b[0;36m<module>\u001b[1;34m()\u001b[0m\n\u001b[0;32m     20\u001b[0m     \u001b[0mthestr\u001b[0m \u001b[1;33m=\u001b[0m \u001b[0mra_list\u001b[0m\u001b[1;33m[\u001b[0m\u001b[0mi\u001b[0m\u001b[1;33m]\u001b[0m \u001b[1;33m+\u001b[0m \u001b[1;34m' '\u001b[0m \u001b[1;33m+\u001b[0m \u001b[0mdec_list\u001b[0m\u001b[1;33m[\u001b[0m\u001b[0mi\u001b[0m\u001b[1;33m]\u001b[0m\u001b[1;33m\u001b[0m\u001b[0m\n\u001b[0;32m     21\u001b[0m     \u001b[0ma\u001b[0m \u001b[1;33m=\u001b[0m \u001b[0mSkyCoord\u001b[0m\u001b[1;33m(\u001b[0m\u001b[0mthestr\u001b[0m\u001b[1;33m,\u001b[0m \u001b[0munit\u001b[0m\u001b[1;33m=\u001b[0m\u001b[1;34m'hourangle, deg'\u001b[0m\u001b[1;33m)\u001b[0m\u001b[1;33m\u001b[0m\u001b[0m\n\u001b[1;32m---> 22\u001b[1;33m     \u001b[0mdf\u001b[0m\u001b[1;33m[\u001b[0m\u001b[0mdf\u001b[0m\u001b[1;33m.\u001b[0m\u001b[0miloc\u001b[0m\u001b[1;33m[\u001b[0m\u001b[0mi\u001b[0m\u001b[1;33m]\u001b[0m\u001b[1;33m,\u001b[0m \u001b[1;34m'ra'\u001b[0m\u001b[1;33m]\u001b[0m \u001b[1;33m=\u001b[0m \u001b[0ma\u001b[0m\u001b[1;33m.\u001b[0m\u001b[0mra\u001b[0m\u001b[1;33m.\u001b[0m\u001b[0mdeg\u001b[0m\u001b[1;33m\u001b[0m\u001b[0m\n\u001b[0m\u001b[0;32m     23\u001b[0m     \u001b[0mdf\u001b[0m\u001b[1;33m[\u001b[0m\u001b[0mdf\u001b[0m\u001b[1;33m.\u001b[0m\u001b[0miloc\u001b[0m\u001b[1;33m[\u001b[0m\u001b[0mi\u001b[0m\u001b[1;33m]\u001b[0m\u001b[1;33m,\u001b[0m \u001b[1;34m'dec'\u001b[0m\u001b[1;33m]\u001b[0m \u001b[1;33m=\u001b[0m \u001b[0ma\u001b[0m\u001b[1;33m.\u001b[0m\u001b[0mdec\u001b[0m\u001b[1;33m.\u001b[0m\u001b[0mdeg\u001b[0m\u001b[1;33m\u001b[0m\u001b[0m\n\u001b[0;32m     24\u001b[0m \u001b[1;33m\u001b[0m\u001b[0m\n",
      "\u001b[1;32m/home/idies/anaconda3/lib/python3.5/site-packages/pandas/core/frame.py\u001b[0m in \u001b[0;36m__setitem__\u001b[1;34m(self, key, value)\u001b[0m\n\u001b[0;32m   2427\u001b[0m         \u001b[1;32melse\u001b[0m\u001b[1;33m:\u001b[0m\u001b[1;33m\u001b[0m\u001b[0m\n\u001b[0;32m   2428\u001b[0m             \u001b[1;31m# set column\u001b[0m\u001b[1;33m\u001b[0m\u001b[1;33m\u001b[0m\u001b[0m\n\u001b[1;32m-> 2429\u001b[1;33m             \u001b[0mself\u001b[0m\u001b[1;33m.\u001b[0m\u001b[0m_set_item\u001b[0m\u001b[1;33m(\u001b[0m\u001b[0mkey\u001b[0m\u001b[1;33m,\u001b[0m \u001b[0mvalue\u001b[0m\u001b[1;33m)\u001b[0m\u001b[1;33m\u001b[0m\u001b[0m\n\u001b[0m\u001b[0;32m   2430\u001b[0m \u001b[1;33m\u001b[0m\u001b[0m\n\u001b[0;32m   2431\u001b[0m     \u001b[1;32mdef\u001b[0m \u001b[0m_setitem_slice\u001b[0m\u001b[1;33m(\u001b[0m\u001b[0mself\u001b[0m\u001b[1;33m,\u001b[0m \u001b[0mkey\u001b[0m\u001b[1;33m,\u001b[0m \u001b[0mvalue\u001b[0m\u001b[1;33m)\u001b[0m\u001b[1;33m:\u001b[0m\u001b[1;33m\u001b[0m\u001b[0m\n",
      "\u001b[1;32m/home/idies/anaconda3/lib/python3.5/site-packages/pandas/core/frame.py\u001b[0m in \u001b[0;36m_set_item\u001b[1;34m(self, key, value)\u001b[0m\n\u001b[0;32m   2493\u001b[0m \u001b[1;33m\u001b[0m\u001b[0m\n\u001b[0;32m   2494\u001b[0m         \u001b[0mself\u001b[0m\u001b[1;33m.\u001b[0m\u001b[0m_ensure_valid_index\u001b[0m\u001b[1;33m(\u001b[0m\u001b[0mvalue\u001b[0m\u001b[1;33m)\u001b[0m\u001b[1;33m\u001b[0m\u001b[0m\n\u001b[1;32m-> 2495\u001b[1;33m         \u001b[0mvalue\u001b[0m \u001b[1;33m=\u001b[0m \u001b[0mself\u001b[0m\u001b[1;33m.\u001b[0m\u001b[0m_sanitize_column\u001b[0m\u001b[1;33m(\u001b[0m\u001b[0mkey\u001b[0m\u001b[1;33m,\u001b[0m \u001b[0mvalue\u001b[0m\u001b[1;33m)\u001b[0m\u001b[1;33m\u001b[0m\u001b[0m\n\u001b[0m\u001b[0;32m   2496\u001b[0m         \u001b[0mNDFrame\u001b[0m\u001b[1;33m.\u001b[0m\u001b[0m_set_item\u001b[0m\u001b[1;33m(\u001b[0m\u001b[0mself\u001b[0m\u001b[1;33m,\u001b[0m \u001b[0mkey\u001b[0m\u001b[1;33m,\u001b[0m \u001b[0mvalue\u001b[0m\u001b[1;33m)\u001b[0m\u001b[1;33m\u001b[0m\u001b[0m\n\u001b[0;32m   2497\u001b[0m \u001b[1;33m\u001b[0m\u001b[0m\n",
      "\u001b[1;32m/home/idies/anaconda3/lib/python3.5/site-packages/pandas/core/frame.py\u001b[0m in \u001b[0;36m_sanitize_column\u001b[1;34m(self, key, value, broadcast)\u001b[0m\n\u001b[0;32m   2692\u001b[0m \u001b[1;33m\u001b[0m\u001b[0m\n\u001b[0;32m   2693\u001b[0m         \u001b[1;31m# broadcast across multiple columns if necessary\u001b[0m\u001b[1;33m\u001b[0m\u001b[1;33m\u001b[0m\u001b[0m\n\u001b[1;32m-> 2694\u001b[1;33m         \u001b[1;32mif\u001b[0m \u001b[0mbroadcast\u001b[0m \u001b[1;32mand\u001b[0m \u001b[0mkey\u001b[0m \u001b[1;32min\u001b[0m \u001b[0mself\u001b[0m\u001b[1;33m.\u001b[0m\u001b[0mcolumns\u001b[0m \u001b[1;32mand\u001b[0m \u001b[0mvalue\u001b[0m\u001b[1;33m.\u001b[0m\u001b[0mndim\u001b[0m \u001b[1;33m==\u001b[0m \u001b[1;36m1\u001b[0m\u001b[1;33m:\u001b[0m\u001b[1;33m\u001b[0m\u001b[0m\n\u001b[0m\u001b[0;32m   2695\u001b[0m             if (not self.columns.is_unique or\n\u001b[0;32m   2696\u001b[0m                     isinstance(self.columns, MultiIndex)):\n",
      "\u001b[1;32m/home/idies/anaconda3/lib/python3.5/site-packages/pandas/core/indexes/base.py\u001b[0m in \u001b[0;36m__contains__\u001b[1;34m(self, key)\u001b[0m\n\u001b[0;32m   1588\u001b[0m     \u001b[1;33m@\u001b[0m\u001b[0mAppender\u001b[0m\u001b[1;33m(\u001b[0m\u001b[0m_index_shared_docs\u001b[0m\u001b[1;33m[\u001b[0m\u001b[1;34m'__contains__'\u001b[0m\u001b[1;33m]\u001b[0m \u001b[1;33m%\u001b[0m \u001b[0m_index_doc_kwargs\u001b[0m\u001b[1;33m)\u001b[0m\u001b[1;33m\u001b[0m\u001b[0m\n\u001b[0;32m   1589\u001b[0m     \u001b[1;32mdef\u001b[0m \u001b[0m__contains__\u001b[0m\u001b[1;33m(\u001b[0m\u001b[0mself\u001b[0m\u001b[1;33m,\u001b[0m \u001b[0mkey\u001b[0m\u001b[1;33m)\u001b[0m\u001b[1;33m:\u001b[0m\u001b[1;33m\u001b[0m\u001b[0m\n\u001b[1;32m-> 1590\u001b[1;33m         \u001b[0mhash\u001b[0m\u001b[1;33m(\u001b[0m\u001b[0mkey\u001b[0m\u001b[1;33m)\u001b[0m\u001b[1;33m\u001b[0m\u001b[0m\n\u001b[0m\u001b[0;32m   1591\u001b[0m         \u001b[1;32mtry\u001b[0m\u001b[1;33m:\u001b[0m\u001b[1;33m\u001b[0m\u001b[0m\n\u001b[0;32m   1592\u001b[0m             \u001b[1;32mreturn\u001b[0m \u001b[0mkey\u001b[0m \u001b[1;32min\u001b[0m \u001b[0mself\u001b[0m\u001b[1;33m.\u001b[0m\u001b[0m_engine\u001b[0m\u001b[1;33m\u001b[0m\u001b[0m\n",
      "\u001b[1;32m/home/idies/anaconda3/lib/python3.5/site-packages/pandas/core/generic.py\u001b[0m in \u001b[0;36m__hash__\u001b[1;34m(self)\u001b[0m\n\u001b[0;32m    875\u001b[0m     \u001b[1;32mdef\u001b[0m \u001b[0m__hash__\u001b[0m\u001b[1;33m(\u001b[0m\u001b[0mself\u001b[0m\u001b[1;33m)\u001b[0m\u001b[1;33m:\u001b[0m\u001b[1;33m\u001b[0m\u001b[0m\n\u001b[0;32m    876\u001b[0m         raise TypeError('{0!r} objects are mutable, thus they cannot be'\n\u001b[1;32m--> 877\u001b[1;33m                         ' hashed'.format(self.__class__.__name__))\n\u001b[0m\u001b[0;32m    878\u001b[0m \u001b[1;33m\u001b[0m\u001b[0m\n\u001b[0;32m    879\u001b[0m     \u001b[1;32mdef\u001b[0m \u001b[0m__iter__\u001b[0m\u001b[1;33m(\u001b[0m\u001b[0mself\u001b[0m\u001b[1;33m)\u001b[0m\u001b[1;33m:\u001b[0m\u001b[1;33m\u001b[0m\u001b[0m\n",
      "\u001b[1;31mTypeError\u001b[0m: 'Series' objects are mutable, thus they cannot be hashed"
     ]
    }
   ],
   "source": [
    "ra_list = []\n",
    "dec_list = []\n",
    "for line in open('orbits.csv'):\n",
    "#    aline = \"C/2002 Y1 (Juels-Holvorcem),e,103.7816,166.2194,128.8232,242.5695,0.0002609,0.99705756,0.0000,04/13.2508/2003,2000,g  6.5,4.0\"\n",
    "#    print(line)\n",
    "#    print(aline)\n",
    "    yh = ephem.readdb(line)\n",
    "    yh.compute('2017/9/1')\n",
    "    ra_list.append(str(yh.ra))\n",
    "    dec_list.append(str(yh.dec))\n",
    "#    print(yh.ra)\n",
    "#    ra_list.append(yh.ra)\n",
    "#    dec_list.append(yh.dec)\n",
    "#print(ra_list)\n",
    "#print(dec_list)\n",
    "#print(numpy.max(ra_list))\n",
    "df['ra'] = -9999\n",
    "df['dec'] = -9999\n",
    "for i in range(0, len(ra_list)):\n",
    "    thestr = ra_list[i] + ' ' + dec_list[i]\n",
    "    a = SkyCoord(thestr, unit='hourangle, deg')\n",
    "    df[df.iloc[i], 'ra'] = a.ra.deg\n",
    "    df[df.iloc[i], 'dec'] = a.dec.deg\n",
    "    \n",
    "df.head(100)\n",
    "#print('Done')"
   ]
  },
  {
   "cell_type": "code",
   "execution_count": null,
   "metadata": {
    "collapsed": true
   },
   "outputs": [],
   "source": [
    ">>> line = \"C/2002 Y1 (Juels-Holvorcem),e,103.7816,166.2194,128.8232,242.5695,0.0002609,0.99705756,0.0000,04/13.2508/2003,2000,g  6.5,4.0\"\n",
    ">>> yh = ephem.readdb(line)\n",
    ">>> yh.compute('2007/10/1')\n",
    ">>> print('%.10f' % yh.earth_distance)\n",
    "14.8046731949\n",
    ">>> print(yh.mag)\n",
    "23.96"
   ]
  }
 ],
 "metadata": {
  "kernelspec": {
   "display_name": "Python 3",
   "language": "python",
   "name": "python3"
  },
  "language_info": {
   "codemirror_mode": {
    "name": "ipython",
    "version": 3
   },
   "file_extension": ".py",
   "mimetype": "text/x-python",
   "name": "python",
   "nbconvert_exporter": "python",
   "pygments_lexer": "ipython3",
   "version": "3.5.3"
  }
 },
 "nbformat": 4,
 "nbformat_minor": 0
}
