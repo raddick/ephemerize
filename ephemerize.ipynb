{
 "cells": [
  {
   "cell_type": "code",
   "execution_count": null,
   "metadata": {
    "collapsed": false
   },
   "outputs": [],
   "source": [
    "!conda install ephem --yes"
   ]
  },
  {
   "cell_type": "code",
   "execution_count": 49,
   "metadata": {
    "collapsed": false
   },
   "outputs": [],
   "source": [
    "import ephem\n",
    "import pandas\n",
    "from SciServer import SciDrive"
   ]
  },
  {
   "cell_type": "code",
   "execution_count": 2,
   "metadata": {
    "collapsed": false
   },
   "outputs": [
    {
     "name": "stdout",
     "output_type": "stream",
     "text": [
      "ok\n"
     ]
    }
   ],
   "source": [
    "#SciDrive.directoryList('mpc')\n",
    "mpc = SciDrive.download('mpc/MPCORB.DAT', localFilePath='mpcorb.dat')\n",
    "print('ok')"
   ]
  },
  {
   "cell_type": "code",
   "execution_count": 3,
   "metadata": {
    "collapsed": false
   },
   "outputs": [
    {
     "name": "stdout",
     "output_type": "stream",
     "text": [
      "ok\n"
     ]
    }
   ],
   "source": [
    "df = pandas.read_fwf('mpcorb.dat')\n",
    "df = df.set_index('desig')\n",
    "df = df.rename(columns = {'epc':'epoch', 'meanAn': 'meanAnomaly', 'perihel':'periheleonArgument'})\n",
    "df = df.rename(columns = {'nodAL':'nodeAscendingLongitude', 'incl': 'inclination'})\n",
    "df = df.rename(columns = {'motDail': 'motionDailyMean', 'z':'uncertainty', 'ref': 'reference'})\n",
    "df = df.rename(columns = {'nOb': 'nObservations', 'nP':'nOppositions', 'arcL':'arcLength'})\n",
    "df = df.rename(columns = {'rms':'rmsResidual', 'p': 'perturbersCoarse', 'pp':'perturbersPrecise'})\n",
    "df = df.rename(columns = {'comp':'computerName', 'flg':'flags', 'lastO':'lastObservationDate'})\n",
    "df['lastObservationDate'] = df['lastObservationDate'].apply(lambda x: str(x))\n",
    "print('ok')"
   ]
  },
  {
   "cell_type": "code",
   "execution_count": 5,
   "metadata": {
    "collapsed": false
   },
   "outputs": [
    {
     "name": "stdout",
     "output_type": "stream",
     "text": [
      "desig\n",
      "\u000000001   2017-03-05\n",
      "\u000000002   2017-06-17\n",
      "\u000000003   2017-06-15\n",
      "\u000000004   2017-03-23\n",
      "\u000000005   2017-06-15\n",
      "\u000000006   2017-05-28\n",
      "\u000000007   2017-06-28\n",
      "\u000000008   2017-07-04\n",
      "\u000000009   2017-06-23\n",
      "\u000000010   2017-06-27\n",
      "\u000000011   2017-03-05\n",
      "\u000000012   2017-06-29\n",
      "\u000000013   2017-05-17\n",
      "\u000000014   2017-06-23\n",
      "\u000000015   2017-06-19\n",
      "\u000000016   2017-06-18\n",
      "\u000000017   2016-12-25\n",
      "\u000000018   2017-04-10\n",
      "\u000000019   2016-12-22\n",
      "\u000000020   2016-11-23\n",
      "\u000000021   2017-05-21\n",
      "\u000000022   2017-06-15\n",
      "\u000000023   2017-07-02\n",
      "\u000000024   2017-07-03\n",
      "\u000000025   2017-06-18\n",
      "\u000000026   2017-06-23\n",
      "\u000000027   2017-06-29\n",
      "\u000000028   2017-06-25\n",
      "\u000000029   2017-06-18\n",
      "\u000000030   2017-07-04\n",
      "            ...    \n",
      "\u0000K17P2   2017-08-05\n",
      "\u0000K17P2   2017-08-11\n",
      "\u0000K17P2   2017-08-11\n",
      "\u0000K17P2   2017-08-12\n",
      "\u0000K17P2   2017-08-12\n",
      "\u0000K17P2   2017-08-14\n",
      "\u0000K17P2   2017-08-14\n",
      "\u0000K17P2   2017-08-14\n",
      "\u0000K17P2   2017-08-15\n",
      "\u0000K17P2   2017-08-14\n",
      "\u0000K17P2   2017-08-16\n",
      "\u0000PLS21   1960-09-29\n",
      "\u0000PLS41   1960-09-28\n",
      "\u0000PLS45   1960-09-28\n",
      "\u0000PLS47   1960-09-28\n",
      "\u0000PLS48   1960-09-28\n",
      "\u0000PLS60   1960-09-28\n",
      "\u0000PLS68   1960-09-28\n",
      "\u0000T2S10   1973-09-30\n",
      "\u0000T2S11   1973-10-05\n",
      "\u0000T2S20   1973-10-04\n",
      "\u0000T2S30   1973-10-05\n",
      "\u0000T3S26   1977-10-22\n",
      "\u0000T3S26   1977-10-17\n",
      "\u0000T3S34   1977-10-17\n",
      "\u0000T3S35   1977-10-21\n",
      "\u0000T3S45   1977-10-22\n",
      "\u0000T3S46   1977-10-17\n",
      "\u0000T3S51   1977-10-17\n",
      "\u0000               NaT\n",
      "Name: lastObservationDate, Length: 739550, dtype: datetime64[ns]\n"
     ]
    }
   ],
   "source": [
    "df['lastObservationDate'] = pandas.to_datetime(df['lastObservationDate'].apply(lambda x: x[0:4]+'-'+x[4:6]+'-'+x[6:8]), errors='coerce')\n",
    "print(df['lastObservationDate'])"
   ]
  },
  {
   "cell_type": "code",
   "execution_count": 56,
   "metadata": {
    "collapsed": false
   },
   "outputs": [
    {
     "name": "stdout",
     "output_type": "stream",
     "text": [
      "Done\n"
     ]
    }
   ],
   "source": [
    "\n",
    "# names, {f|e|h|p|E|P}, incli, long-ascending-node, arg-of-perihel, a (mean dist), \n",
    "##  mean-daily-motion, eccentricity, mean-anomaly, epoch, equinox-year, mag1, mag2, ang-size\n",
    "\n",
    "'''\n",
    "line = \"C/2002 Y1 (Juels-Holvorcem),\n",
    "e,\n",
    "103.7816,\n",
    "166.2194,\n",
    "128.8232,\n",
    "242.5695,\n",
    "0.0002609,\n",
    "0.99705756,\n",
    "0.0000,\n",
    "04/13.2508/2003,\n",
    "2000,\n",
    "g  \n",
    "6.5,\n",
    "4.0\"\n",
    "'''\n",
    "#df['orbit_type'] = 'e'\n",
    "\n",
    "#print(line)\n",
    "xephem_column_order = ['name', 'orbit_type', 'inclination']\n",
    "xephem_column_order += ['nodeAscendingLongitude', 'periheleonArgument', 'a']\n",
    "xephem_column_order += ['motionDailyMean', 'e', 'meanAnomaly', 'epoch', 'epoch', 'h', 'g']\n",
    "\n",
    "xephem_df = df[xephem_column_order]\n",
    "#print(xephem_df.head(1))\n",
    "#K01W68W 16.1   0.15 K1794 347.98048  138.34564  218.49218    8.98681  0.1019559  0.17780077   3.1321817  0 E2017-QB4   101   9 2001-2017 0.39 M-v 38h MPCLINUX   0400          2001 WW68          20170824\n",
    "#yh = ephem.readdb(xephem_df.iloc[0].astype(str))\n",
    "#yh.compute('2007/10/1')\n",
    "#print('{:.1f}'.format(yh.earth_distance))\n",
    "#print(yh.mag)\n",
    "#df.columns\n",
    "\n",
    "with open('orbits.csv', 'w') as f:\n",
    "    for i in range(0,3):\n",
    "        thisline = ''\n",
    "        for j in range(0,2):\n",
    "            thisline += \"'\" + xephem_df.iloc[i].values[j] + \"'\" + \", \"\n",
    "        for k in range(3,12):\n",
    "            thisline += str(xephem_df.iloc[i].values[k]) + \", \"\n",
    "        thisline += str(xephem_df.iloc[i].values[12])\n",
    "        thisline += '\\n'\n",
    "        f.write(thisline)\n",
    "#    thisline += '\\n'\n",
    "#    for j in range(0, len(xephem_df.iloc[i].values)):\n",
    "#        print(xephem_df.iloc[i].values[j])\n",
    "print('Done')"
   ]
  },
  {
   "cell_type": "code",
   "execution_count": null,
   "metadata": {
    "collapsed": true
   },
   "outputs": [],
   "source": [
    ">>> line = \"C/2002 Y1 (Juels-Holvorcem),e,103.7816,166.2194,128.8232,242.5695,0.0002609,0.99705756,0.0000,04/13.2508/2003,2000,g  6.5,4.0\"\n",
    ">>> yh = ephem.readdb(line)\n",
    ">>> yh.compute('2007/10/1')\n",
    ">>> print('%.10f' % yh.earth_distance)\n",
    "14.8046731949\n",
    ">>> print(yh.mag)\n",
    "23.96"
   ]
  }
 ],
 "metadata": {
  "kernelspec": {
   "display_name": "Python 3",
   "language": "python",
   "name": "python3"
  },
  "language_info": {
   "codemirror_mode": {
    "name": "ipython",
    "version": 3
   },
   "file_extension": ".py",
   "mimetype": "text/x-python",
   "name": "python",
   "nbconvert_exporter": "python",
   "pygments_lexer": "ipython3",
   "version": "3.5.3"
  }
 },
 "nbformat": 4,
 "nbformat_minor": 0
}
