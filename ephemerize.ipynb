{
 "cells": [
  {
   "cell_type": "code",
   "execution_count": null,
   "metadata": {
    "collapsed": false
   },
   "outputs": [],
   "source": [
    "#!conda install ephem --yes"
   ]
  },
  {
   "cell_type": "code",
   "execution_count": null,
   "metadata": {
    "collapsed": false
   },
   "outputs": [],
   "source": [
    "# runs in 8 seconds\n",
    "import ephem\n",
    "import numpy\n",
    "import pandas\n",
    "from SciServer import SciDrive\n",
    "from astropy import units\n",
    "from astropy.coordinates import SkyCoord\n",
    "from SciServer import CasJobs\n",
    "print('Done')"
   ]
  },
  {
   "cell_type": "code",
   "execution_count": null,
   "metadata": {
    "collapsed": false
   },
   "outputs": [],
   "source": [
    "# runs in 24 seconds\n",
    "#SciDrive.directoryList('mpc')\n",
    "mpc = SciDrive.download('mpc/MPCORB.DAT', localFilePath='mpcorb.dat')\n",
    "print('Done')"
   ]
  },
  {
   "cell_type": "code",
   "execution_count": null,
   "metadata": {
    "collapsed": false
   },
   "outputs": [],
   "source": [
    "# runs in 1m 15s\n",
    "df = pandas.read_fwf('mpcorb.dat')\n",
    "df = df.set_index('desig')\n",
    "print('Data read')\n",
    "df = df.rename(columns = {'epc':'epoch', 'meanAn': 'meanAnomaly', 'perihel':'periheleonArgument'})\n",
    "df = df.rename(columns = {'nodAL':'nodeAscendingLongitude', 'incl': 'inclination'})\n",
    "df = df.rename(columns = {'motDail': 'motionDailyMean', 'z':'uncertainty', 'ref': 'reference'})\n",
    "df = df.rename(columns = {'nOb': 'nObservations', 'nP':'nOppositions', 'arcL':'arcLength'})\n",
    "df = df.rename(columns = {'rms':'rmsResidual', 'p': 'perturbersCoarse', 'pp':'perturbersPrecise'})\n",
    "df = df.rename(columns = {'comp':'computerName', 'flg':'flags', 'lastO':'lastObservationDate'})\n",
    "print('Columns renamed')\n",
    "print('Done')"
   ]
  },
  {
   "cell_type": "code",
   "execution_count": null,
   "metadata": {
    "collapsed": false
   },
   "outputs": [],
   "source": [
    "#runs in 23 sec\n",
    "df['lastObservationDate'] = df['lastObservationDate'].astype(str)\n",
    "print('Dates stringed')\n",
    "df['lastObservationDate'] = df['lastObservationDate'].apply(lambda x: x[0:-2])\n",
    "print('Dates parsed')\n",
    "df['lastObservationDate'] = pandas.to_datetime(df['lastObservationDate'], format='%Y%m%d', errors='coerce')\n",
    "print('Dates dated')\n",
    "df['lastObservationYear'] = df['lastObservationDate'].apply(lambda x: x.year)\n",
    "print('Years yeared')\n",
    "\n",
    "df['orbit_type'] = 'e'\n",
    "print('Orbit type set to e')\n",
    "\n",
    "xephem_column_order = ['name', 'orbit_type', 'inclination']\n",
    "xephem_column_order += ['nodeAscendingLongitude', 'periheleonArgument', 'a']\n",
    "xephem_column_order += ['motionDailyMean', 'e', 'meanAnomaly']\n",
    "xephem_column_order += ['epoch', 'lastObservationYear', 'h', 'g']\n",
    "xephem_df = df[xephem_column_order]\n",
    "print('xephem xephemed')\n",
    "print('Done')"
   ]
  },
  {
   "cell_type": "code",
   "execution_count": null,
   "metadata": {
    "collapsed": false
   },
   "outputs": [],
   "source": [
    "# runs in 1h 20min\n",
    "\n",
    "# structure of .epb file (what we need to convert to):\n",
    "# names, {f|e|h|p|E|P}, incli, long-ascending-node, arg-of-perihel, a (mean dist), \n",
    "##  mean-daily-motion, eccentricity, mean-anomaly, epoch, equinox-year, mag1, mag2, ang-size\n",
    "\n",
    "'''\n",
    "xephem_column_order = ['name', 'orbit_type', 'inclination']\n",
    "xephem_column_order += ['nodeAscendingLongitude', 'periheleonArgument', 'a']\n",
    "xephem_column_order += ['motionDailyMean', 'e', 'meanAnomaly']\n",
    "xephem_column_order += ['epoch', 'lastObservationYear', 'h', 'g']\n",
    "\n",
    "xephem_df = df[xephem_column_order]\n",
    "'''\n",
    "\n",
    "#aline = \"C/2002 Y1 (Juels-Holvorcem),e,103.7816,166.2194,128.8232,242.5695,0.0002609,0.99705756,0.0000,04/13.2508/2003,2000,g  6.5,4.0\"\n",
    "#print(aline)\n",
    "#print('\\n')\n",
    "\n",
    "with open('orbits.csv', 'w') as f:\n",
    "    for i in range(0,len(df)):\n",
    "#    for i in range(0,101):\n",
    "        if (numpy.mod(i,10000) == 0):\n",
    "            print('Writing data for asteroid {:,.0f}...'.format(i))\n",
    "        thisline = \"\"\n",
    "        for k in range(0,11):\n",
    "            thisline += str(xephem_df.iloc[i].values[k]) + \",\"\n",
    "        thisline += 'H '+str(xephem_df.iloc[i].values[11]) + \",\"\n",
    "        thisline += str(xephem_df.iloc[i].values[12])\n",
    "        thisline += '\\n'\n",
    "#        print(thisline)\n",
    "        f.write(thisline)\n",
    "print('Done')"
   ]
  },
  {
   "cell_type": "code",
   "execution_count": null,
   "metadata": {
    "collapsed": false
   },
   "outputs": [],
   "source": [
    "# runs in about 1 min\n",
    "ra_list = []\n",
    "dec_list = []\n",
    "cnt = 1\n",
    "for line in open('orbits.csv'):\n",
    "    yh = ephem.readdb(line)\n",
    "    if (numpy.mod(cnt,10000) == 0):\n",
    "        print('Read data for asteroid {:}'.format(cnt))\n",
    "    yh.compute('2017/9/1')\n",
    "    if (numpy.mod(cnt,10000) == 0):\n",
    "        print('Calculated ra/dec for asteroid {:,.0f}'.format(cnt))\n",
    "    ra_list.append(str(yh.ra))\n",
    "    dec_list.append(str(yh.dec))\n",
    "    cnt = cnt + 1\n",
    "\n",
    "print('Done')"
   ]
  },
  {
   "cell_type": "code",
   "execution_count": null,
   "metadata": {
    "collapsed": false
   },
   "outputs": [],
   "source": [
    "# runs in about 2 h 30 min\n",
    "coord_deg = numpy.empty((len(df),2))\n",
    "coord_deg[:] = numpy.nan\n",
    "\n",
    "for i in range(0, len(ra_list)):\n",
    "    thestr = ra_list[i] + ' ' + dec_list[i]\n",
    "#    print(thestr)\n",
    "    a = SkyCoord(thestr, unit='hourangle, deg')\n",
    "#    print(a)\n",
    "#    print(a.ra.deg, a.dec.deg)\n",
    "    coord_deg[i,0] = a.ra.deg\n",
    "    coord_deg[i,1] = a.dec.deg\n",
    "    if (numpy.mod(i, 10000) == 0):\n",
    "        print('Converted coordinates for asteroid {:,.0f}'.format(i))\n",
    "#    df.loc[i, 'ra'] = a.ra.deg\n",
    "#    df.loc[i, 'dec'] = a.dec.deg\n",
    "#    print('df updated')\n",
    "#    enya1927_df.loc[i, 'game_in_season'] = thisgame\n",
    "print(coord_deg)\n",
    "df['ra'] = coord_deg[:,0].tolist()\n",
    "df['dec'] = coord_deg[:,1].tolist()\n",
    "print('Done')\n",
    "#df.head(100)"
   ]
  },
  {
   "cell_type": "code",
   "execution_count": null,
   "metadata": {
    "collapsed": false
   },
   "outputs": [],
   "source": [
    "df['name'] = df['name'].replace(\"'\",\"''\")\n",
    "print('string replaced')"
   ]
  },
  {
   "cell_type": "code",
   "execution_count": null,
   "metadata": {
    "collapsed": false
   },
   "outputs": [],
   "source": [
    "# runs in 2 minutes\n",
    "haswritten = CasJobs.uploadPandasDataFrameToTable(df, 'mpcorb','MyDB')\n",
    "print(haswritten)\n",
    "#df.columns\n",
    "#df['epoch'] = df['epoch'].to_string()\n",
    "#df['epoch'] = df['epoch'].apply(lambda x: str(x))\n",
    "#print(df.dtypes)\n",
    "\n",
    "#df['epoch'].head(10)"
   ]
  },
  {
   "cell_type": "code",
   "execution_count": null,
   "metadata": {
    "collapsed": false
   },
   "outputs": [],
   "source": [
    "df.shape"
   ]
  },
  {
   "cell_type": "code",
   "execution_count": null,
   "metadata": {
    "collapsed": true
   },
   "outputs": [],
   "source": []
  }
 ],
 "metadata": {
  "kernelspec": {
   "display_name": "Python 3",
   "language": "python",
   "name": "python3"
  },
  "language_info": {
   "codemirror_mode": {
    "name": "ipython",
    "version": 3
   },
   "file_extension": ".py",
   "mimetype": "text/x-python",
   "name": "python",
   "nbconvert_exporter": "python",
   "pygments_lexer": "ipython3",
   "version": "3.5.3"
  }
 },
 "nbformat": 4,
 "nbformat_minor": 0
}
